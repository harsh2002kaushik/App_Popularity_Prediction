{
  "nbformat": 4,
  "nbformat_minor": 0,
  "metadata": {
    "colab": {
      "name": "games_classification.ipynb",
      "provenance": [],
      "collapsed_sections": []
    },
    "kernelspec": {
      "name": "python3",
      "display_name": "Python 3"
    }
  },
  "cells": [
    {
      "cell_type": "code",
      "metadata": {
        "id": "FWLthiMGBZyd"
      },
      "source": [
        "import pandas as pd\n",
        "import numpy as np\n",
        "import matplotlib.pyplot as plt\n",
        "import seaborn as sns"
      ],
      "execution_count": 180,
      "outputs": []
    },
    {
      "cell_type": "code",
      "metadata": {
        "id": "DaT00wKGCmMD"
      },
      "source": [
        "df= pd.read_csv('./drive/My Drive/Final_games.csv')"
      ],
      "execution_count": 181,
      "outputs": []
    },
    {
      "cell_type": "code",
      "metadata": {
        "id": "5k8WBOtHCvEW",
        "colab": {
          "base_uri": "https://localhost:8080/",
          "height": 402
        },
        "outputId": "fa262387-93b7-4e7f-dbc4-21772ba140a1"
      },
      "source": [
        "df"
      ],
      "execution_count": 182,
      "outputs": [
        {
          "output_type": "execute_result",
          "data": {
            "text/html": [
              "<div>\n",
              "<style scoped>\n",
              "    .dataframe tbody tr th:only-of-type {\n",
              "        vertical-align: middle;\n",
              "    }\n",
              "\n",
              "    .dataframe tbody tr th {\n",
              "        vertical-align: top;\n",
              "    }\n",
              "\n",
              "    .dataframe thead th {\n",
              "        text-align: right;\n",
              "    }\n",
              "</style>\n",
              "<table border=\"1\" class=\"dataframe\">\n",
              "  <thead>\n",
              "    <tr style=\"text-align: right;\">\n",
              "      <th></th>\n",
              "      <th>editors_choice</th>\n",
              "      <th>game_types</th>\n",
              "      <th>comments</th>\n",
              "      <th>price</th>\n",
              "      <th>updated</th>\n",
              "      <th>size</th>\n",
              "      <th>required_android</th>\n",
              "      <th>content_rating</th>\n",
              "      <th>game_features</th>\n",
              "      <th>interactive_elements</th>\n",
              "      <th>in_app_products_avg</th>\n",
              "      <th>has_website</th>\n",
              "      <th>stars</th>\n",
              "    </tr>\n",
              "  </thead>\n",
              "  <tbody>\n",
              "    <tr>\n",
              "      <th>0</th>\n",
              "      <td>0</td>\n",
              "      <td>arcade</td>\n",
              "      <td>157483</td>\n",
              "      <td>12100</td>\n",
              "      <td>2019</td>\n",
              "      <td>7</td>\n",
              "      <td>7</td>\n",
              "      <td>18</td>\n",
              "      <td>1</td>\n",
              "      <td>0</td>\n",
              "      <td>0</td>\n",
              "      <td>1</td>\n",
              "      <td>2</td>\n",
              "    </tr>\n",
              "    <tr>\n",
              "      <th>1</th>\n",
              "      <td>0</td>\n",
              "      <td>racing</td>\n",
              "      <td>23326</td>\n",
              "      <td>1000</td>\n",
              "      <td>2016</td>\n",
              "      <td>37</td>\n",
              "      <td>4</td>\n",
              "      <td>3</td>\n",
              "      <td>0</td>\n",
              "      <td>1</td>\n",
              "      <td>10500</td>\n",
              "      <td>1</td>\n",
              "      <td>1</td>\n",
              "    </tr>\n",
              "    <tr>\n",
              "      <th>2</th>\n",
              "      <td>1</td>\n",
              "      <td>arcade</td>\n",
              "      <td>3795238</td>\n",
              "      <td>47956</td>\n",
              "      <td>2020</td>\n",
              "      <td>68</td>\n",
              "      <td>4</td>\n",
              "      <td>7</td>\n",
              "      <td>2</td>\n",
              "      <td>1</td>\n",
              "      <td>203740</td>\n",
              "      <td>1</td>\n",
              "      <td>2</td>\n",
              "    </tr>\n",
              "    <tr>\n",
              "      <th>3</th>\n",
              "      <td>0</td>\n",
              "      <td>simulation</td>\n",
              "      <td>70448</td>\n",
              "      <td>2900</td>\n",
              "      <td>2020</td>\n",
              "      <td>60</td>\n",
              "      <td>4</td>\n",
              "      <td>3</td>\n",
              "      <td>0</td>\n",
              "      <td>1</td>\n",
              "      <td>133400</td>\n",
              "      <td>1</td>\n",
              "      <td>2</td>\n",
              "    </tr>\n",
              "    <tr>\n",
              "      <th>4</th>\n",
              "      <td>1</td>\n",
              "      <td>action</td>\n",
              "      <td>835484</td>\n",
              "      <td>3000</td>\n",
              "      <td>2020</td>\n",
              "      <td>48</td>\n",
              "      <td>4</td>\n",
              "      <td>18</td>\n",
              "      <td>1</td>\n",
              "      <td>2</td>\n",
              "      <td>203877</td>\n",
              "      <td>1</td>\n",
              "      <td>2</td>\n",
              "    </tr>\n",
              "    <tr>\n",
              "      <th>...</th>\n",
              "      <td>...</td>\n",
              "      <td>...</td>\n",
              "      <td>...</td>\n",
              "      <td>...</td>\n",
              "      <td>...</td>\n",
              "      <td>...</td>\n",
              "      <td>...</td>\n",
              "      <td>...</td>\n",
              "      <td>...</td>\n",
              "      <td>...</td>\n",
              "      <td>...</td>\n",
              "      <td>...</td>\n",
              "      <td>...</td>\n",
              "    </tr>\n",
              "    <tr>\n",
              "      <th>594</th>\n",
              "      <td>0</td>\n",
              "      <td>roleplaying</td>\n",
              "      <td>61898</td>\n",
              "      <td>0</td>\n",
              "      <td>2020</td>\n",
              "      <td>81</td>\n",
              "      <td>4</td>\n",
              "      <td>12</td>\n",
              "      <td>3</td>\n",
              "      <td>2</td>\n",
              "      <td>453950</td>\n",
              "      <td>1</td>\n",
              "      <td>2</td>\n",
              "    </tr>\n",
              "    <tr>\n",
              "      <th>595</th>\n",
              "      <td>1</td>\n",
              "      <td>strategy</td>\n",
              "      <td>60384</td>\n",
              "      <td>0</td>\n",
              "      <td>2020</td>\n",
              "      <td>104</td>\n",
              "      <td>5</td>\n",
              "      <td>12</td>\n",
              "      <td>1</td>\n",
              "      <td>2</td>\n",
              "      <td>1303750</td>\n",
              "      <td>1</td>\n",
              "      <td>2</td>\n",
              "    </tr>\n",
              "    <tr>\n",
              "      <th>596</th>\n",
              "      <td>1</td>\n",
              "      <td>adventure</td>\n",
              "      <td>736760</td>\n",
              "      <td>0</td>\n",
              "      <td>2020</td>\n",
              "      <td>68</td>\n",
              "      <td>4</td>\n",
              "      <td>7</td>\n",
              "      <td>1</td>\n",
              "      <td>1</td>\n",
              "      <td>351424</td>\n",
              "      <td>1</td>\n",
              "      <td>2</td>\n",
              "    </tr>\n",
              "    <tr>\n",
              "      <th>597</th>\n",
              "      <td>1</td>\n",
              "      <td>casual</td>\n",
              "      <td>3453485</td>\n",
              "      <td>0</td>\n",
              "      <td>2020</td>\n",
              "      <td>78</td>\n",
              "      <td>4</td>\n",
              "      <td>3</td>\n",
              "      <td>0</td>\n",
              "      <td>3</td>\n",
              "      <td>397750</td>\n",
              "      <td>1</td>\n",
              "      <td>3</td>\n",
              "    </tr>\n",
              "    <tr>\n",
              "      <th>598</th>\n",
              "      <td>0</td>\n",
              "      <td>board</td>\n",
              "      <td>177352</td>\n",
              "      <td>0</td>\n",
              "      <td>2020</td>\n",
              "      <td>33</td>\n",
              "      <td>4</td>\n",
              "      <td>3</td>\n",
              "      <td>0</td>\n",
              "      <td>2</td>\n",
              "      <td>874000</td>\n",
              "      <td>1</td>\n",
              "      <td>2</td>\n",
              "    </tr>\n",
              "  </tbody>\n",
              "</table>\n",
              "<p>599 rows × 13 columns</p>\n",
              "</div>"
            ],
            "text/plain": [
              "     editors_choice   game_types  ...  has_website  stars\n",
              "0                 0       arcade  ...            1      2\n",
              "1                 0       racing  ...            1      1\n",
              "2                 1       arcade  ...            1      2\n",
              "3                 0   simulation  ...            1      2\n",
              "4                 1       action  ...            1      2\n",
              "..              ...          ...  ...          ...    ...\n",
              "594               0  roleplaying  ...            1      2\n",
              "595               1     strategy  ...            1      2\n",
              "596               1    adventure  ...            1      2\n",
              "597               1       casual  ...            1      3\n",
              "598               0        board  ...            1      2\n",
              "\n",
              "[599 rows x 13 columns]"
            ]
          },
          "metadata": {
            "tags": []
          },
          "execution_count": 182
        }
      ]
    },
    {
      "cell_type": "code",
      "metadata": {
        "id": "8XPBpqgrad-G"
      },
      "source": [
        "from sklearn.preprocessing import LabelEncoder"
      ],
      "execution_count": 183,
      "outputs": []
    },
    {
      "cell_type": "code",
      "metadata": {
        "id": "PDX0Oyh8ahmb"
      },
      "source": [
        "df['game_types'] = LabelEncoder().fit_transform(df['game_types'])"
      ],
      "execution_count": 184,
      "outputs": []
    },
    {
      "cell_type": "code",
      "metadata": {
        "id": "SKiy2wUgC4Ds"
      },
      "source": [
        "import sklearn \n",
        "from sklearn.model_selection import train_test_split"
      ],
      "execution_count": 185,
      "outputs": []
    },
    {
      "cell_type": "code",
      "metadata": {
        "id": "VPZKNFT1DOOO"
      },
      "source": [
        "X=df.drop(['editors_choice'],axis=1)              \n",
        "Y=df['editors_choice'] "
      ],
      "execution_count": 186,
      "outputs": []
    },
    {
      "cell_type": "code",
      "metadata": {
        "id": "QlpuvMZkEn6p",
        "colab": {
          "base_uri": "https://localhost:8080/"
        },
        "outputId": "2fc758ea-eca6-4520-cd74-a0394f7e770a"
      },
      "source": [
        "X.columns"
      ],
      "execution_count": 187,
      "outputs": [
        {
          "output_type": "execute_result",
          "data": {
            "text/plain": [
              "Index(['game_types', 'comments', 'price', 'updated', 'size',\n",
              "       'required_android', 'content_rating', 'game_features',\n",
              "       'interactive_elements', 'in_app_products_avg', 'has_website', 'stars'],\n",
              "      dtype='object')"
            ]
          },
          "metadata": {
            "tags": []
          },
          "execution_count": 187
        }
      ]
    },
    {
      "cell_type": "code",
      "metadata": {
        "id": "ITdKZM46DQib"
      },
      "source": [
        "X_train, X_test, Y_train, Y_test = train_test_split(X, Y, test_size=0.2, random_state=42)"
      ],
      "execution_count": 188,
      "outputs": []
    },
    {
      "cell_type": "code",
      "metadata": {
        "id": "mYWL5YW_DSGU"
      },
      "source": [
        "from sklearn import tree\n",
        "from sklearn.metrics import accuracy_score\n",
        "import graphviz\n",
        "from sklearn.model_selection import cross_val_score\n",
        "from sklearn.model_selection import GridSearchCV\n",
        "from sklearn.tree import export_graphviz"
      ],
      "execution_count": 189,
      "outputs": []
    },
    {
      "cell_type": "code",
      "metadata": {
        "id": "bn74-FTKDuDb",
        "colab": {
          "base_uri": "https://localhost:8080/"
        },
        "outputId": "0450a779-9aa4-4529-ca6a-6fdc4ba37181"
      },
      "source": [
        "tree_clf = tree.DecisionTreeClassifier ()\n",
        "tree_clf.fit(X_train,Y_train)"
      ],
      "execution_count": 190,
      "outputs": [
        {
          "output_type": "execute_result",
          "data": {
            "text/plain": [
              "DecisionTreeClassifier(ccp_alpha=0.0, class_weight=None, criterion='gini',\n",
              "                       max_depth=None, max_features=None, max_leaf_nodes=None,\n",
              "                       min_impurity_decrease=0.0, min_impurity_split=None,\n",
              "                       min_samples_leaf=1, min_samples_split=2,\n",
              "                       min_weight_fraction_leaf=0.0, presort='deprecated',\n",
              "                       random_state=None, splitter='best')"
            ]
          },
          "metadata": {
            "tags": []
          },
          "execution_count": 190
        }
      ]
    },
    {
      "cell_type": "code",
      "metadata": {
        "id": "Kiz7wVeLVY1I",
        "colab": {
          "base_uri": "https://localhost:8080/"
        },
        "outputId": "ae05b742-0382-4cd6-f81f-f11f5f72747a"
      },
      "source": [
        "tree_clf.score(X_test,Y_test)"
      ],
      "execution_count": 191,
      "outputs": [
        {
          "output_type": "execute_result",
          "data": {
            "text/plain": [
              "0.775"
            ]
          },
          "metadata": {
            "tags": []
          },
          "execution_count": 191
        }
      ]
    },
    {
      "cell_type": "code",
      "metadata": {
        "id": "1eWjFKaoWExU"
      },
      "source": [
        "tree_params = {'max_depth':np.arange(3,6,1),'criterion':['entropy','gini']}\n",
        "tree_search = GridSearchCV(tree_clf,tree_params,scoring='accuracy')        # make it randomized \n",
        "tree_search.fit(X_train,Y_train)\n",
        "tree_best_params = tree_search.best_params_"
      ],
      "execution_count": 192,
      "outputs": []
    },
    {
      "cell_type": "code",
      "metadata": {
        "id": "eczvzV_RXP68",
        "colab": {
          "base_uri": "https://localhost:8080/"
        },
        "outputId": "9d8b9f4a-7e8c-404f-97c2-df0a53d3aabd"
      },
      "source": [
        "tree_optimized = tree.DecisionTreeClassifier(criterion = tree_best_params['criterion'], max_depth = tree_best_params['max_depth'])\n",
        "tree_optimized.fit(X_train,Y_train)"
      ],
      "execution_count": 193,
      "outputs": [
        {
          "output_type": "execute_result",
          "data": {
            "text/plain": [
              "DecisionTreeClassifier(ccp_alpha=0.0, class_weight=None, criterion='gini',\n",
              "                       max_depth=3, max_features=None, max_leaf_nodes=None,\n",
              "                       min_impurity_decrease=0.0, min_impurity_split=None,\n",
              "                       min_samples_leaf=1, min_samples_split=2,\n",
              "                       min_weight_fraction_leaf=0.0, presort='deprecated',\n",
              "                       random_state=None, splitter='best')"
            ]
          },
          "metadata": {
            "tags": []
          },
          "execution_count": 193
        }
      ]
    },
    {
      "cell_type": "code",
      "metadata": {
        "id": "GNsYkuKvZoC4",
        "colab": {
          "base_uri": "https://localhost:8080/"
        },
        "outputId": "ff95e25f-5807-4885-aaf1-b2465b3bdec4"
      },
      "source": [
        "tree_optimized.score(X_test,Y_test)"
      ],
      "execution_count": 194,
      "outputs": [
        {
          "output_type": "execute_result",
          "data": {
            "text/plain": [
              "0.8166666666666667"
            ]
          },
          "metadata": {
            "tags": []
          },
          "execution_count": 194
        }
      ]
    },
    {
      "cell_type": "code",
      "metadata": {
        "id": "8K-ZLW7rD0Az",
        "colab": {
          "base_uri": "https://localhost:8080/",
          "height": 518
        },
        "outputId": "5d1b9441-6715-4e82-b428-2c6439d3cc14"
      },
      "source": [
        "dot_data = export_graphviz(tree_optimized,feature_names=X.columns,filled=True)\n",
        "graphviz.Source(dot_data)"
      ],
      "execution_count": 195,
      "outputs": [
        {
          "output_type": "execute_result",
          "data": {
            "text/plain": [
              "<graphviz.files.Source at 0x7f9552eeea90>"
            ],
            "image/svg+xml": "<?xml version=\"1.0\" encoding=\"UTF-8\" standalone=\"no\"?>\n<!DOCTYPE svg PUBLIC \"-//W3C//DTD SVG 1.1//EN\"\n \"http://www.w3.org/Graphics/SVG/1.1/DTD/svg11.dtd\">\n<!-- Generated by graphviz version 2.40.1 (20161225.0304)\n -->\n<!-- Title: Tree Pages: 1 -->\n<svg width=\"985pt\" height=\"373pt\"\n viewBox=\"0.00 0.00 985.00 373.00\" xmlns=\"http://www.w3.org/2000/svg\" xmlns:xlink=\"http://www.w3.org/1999/xlink\">\n<g id=\"graph0\" class=\"graph\" transform=\"scale(1 1) rotate(0) translate(4 369)\">\n<title>Tree</title>\n<polygon fill=\"#ffffff\" stroke=\"transparent\" points=\"-4,4 -4,-369 981,-369 981,4 -4,4\"/>\n<!-- 0 -->\n<g id=\"node1\" class=\"node\">\n<title>0</title>\n<polygon fill=\"#ea985e\" stroke=\"#000000\" points=\"542,-365 387,-365 387,-297 542,-297 542,-365\"/>\n<text text-anchor=\"middle\" x=\"464.5\" y=\"-349.8\" font-family=\"Times,serif\" font-size=\"14.00\" fill=\"#000000\">comments &lt;= 644757.5</text>\n<text text-anchor=\"middle\" x=\"464.5\" y=\"-334.8\" font-family=\"Times,serif\" font-size=\"14.00\" fill=\"#000000\">gini = 0.264</text>\n<text text-anchor=\"middle\" x=\"464.5\" y=\"-319.8\" font-family=\"Times,serif\" font-size=\"14.00\" fill=\"#000000\">samples = 479</text>\n<text text-anchor=\"middle\" x=\"464.5\" y=\"-304.8\" font-family=\"Times,serif\" font-size=\"14.00\" fill=\"#000000\">value = [404, 75]</text>\n</g>\n<!-- 1 -->\n<g id=\"node2\" class=\"node\">\n<title>1</title>\n<polygon fill=\"#e78a46\" stroke=\"#000000\" points=\"415,-261 298,-261 298,-193 415,-193 415,-261\"/>\n<text text-anchor=\"middle\" x=\"356.5\" y=\"-245.8\" font-family=\"Times,serif\" font-size=\"14.00\" fill=\"#000000\">price &lt;= 18600.0</text>\n<text text-anchor=\"middle\" x=\"356.5\" y=\"-230.8\" font-family=\"Times,serif\" font-size=\"14.00\" fill=\"#000000\">gini = 0.118</text>\n<text text-anchor=\"middle\" x=\"356.5\" y=\"-215.8\" font-family=\"Times,serif\" font-size=\"14.00\" fill=\"#000000\">samples = 348</text>\n<text text-anchor=\"middle\" x=\"356.5\" y=\"-200.8\" font-family=\"Times,serif\" font-size=\"14.00\" fill=\"#000000\">value = [326, 22]</text>\n</g>\n<!-- 0&#45;&gt;1 -->\n<g id=\"edge1\" class=\"edge\">\n<title>0&#45;&gt;1</title>\n<path fill=\"none\" stroke=\"#000000\" d=\"M429.1368,-296.9465C419.6264,-287.7884 409.237,-277.7838 399.3665,-268.2788\"/>\n<polygon fill=\"#000000\" stroke=\"#000000\" points=\"401.5737,-265.5453 391.9427,-261.13 396.7182,-270.5876 401.5737,-265.5453\"/>\n<text text-anchor=\"middle\" x=\"392.4143\" y=\"-282.4255\" font-family=\"Times,serif\" font-size=\"14.00\" fill=\"#000000\">True</text>\n</g>\n<!-- 8 -->\n<g id=\"node9\" class=\"node\">\n<title>8</title>\n<polygon fill=\"#f7d7c0\" stroke=\"#000000\" points=\"654,-261 493,-261 493,-193 654,-193 654,-261\"/>\n<text text-anchor=\"middle\" x=\"573.5\" y=\"-245.8\" font-family=\"Times,serif\" font-size=\"14.00\" fill=\"#000000\">comments &lt;= 4111059.5</text>\n<text text-anchor=\"middle\" x=\"573.5\" y=\"-230.8\" font-family=\"Times,serif\" font-size=\"14.00\" fill=\"#000000\">gini = 0.482</text>\n<text text-anchor=\"middle\" x=\"573.5\" y=\"-215.8\" font-family=\"Times,serif\" font-size=\"14.00\" fill=\"#000000\">samples = 131</text>\n<text text-anchor=\"middle\" x=\"573.5\" y=\"-200.8\" font-family=\"Times,serif\" font-size=\"14.00\" fill=\"#000000\">value = [78, 53]</text>\n</g>\n<!-- 0&#45;&gt;8 -->\n<g id=\"edge8\" class=\"edge\">\n<title>0&#45;&gt;8</title>\n<path fill=\"none\" stroke=\"#000000\" d=\"M500.1907,-296.9465C509.7891,-287.7884 520.2747,-277.7838 530.2366,-268.2788\"/>\n<polygon fill=\"#000000\" stroke=\"#000000\" points=\"532.9102,-270.5655 537.7291,-261.13 528.0779,-265.5009 532.9102,-270.5655\"/>\n<text text-anchor=\"middle\" x=\"537.1424\" y=\"-282.4231\" font-family=\"Times,serif\" font-size=\"14.00\" fill=\"#000000\">False</text>\n</g>\n<!-- 2 -->\n<g id=\"node3\" class=\"node\">\n<title>2</title>\n<polygon fill=\"#e68641\" stroke=\"#000000\" points=\"251,-157 110,-157 110,-89 251,-89 251,-157\"/>\n<text text-anchor=\"middle\" x=\"180.5\" y=\"-141.8\" font-family=\"Times,serif\" font-size=\"14.00\" fill=\"#000000\">game_features &lt;= 2.5</text>\n<text text-anchor=\"middle\" x=\"180.5\" y=\"-126.8\" font-family=\"Times,serif\" font-size=\"14.00\" fill=\"#000000\">gini = 0.072</text>\n<text text-anchor=\"middle\" x=\"180.5\" y=\"-111.8\" font-family=\"Times,serif\" font-size=\"14.00\" fill=\"#000000\">samples = 296</text>\n<text text-anchor=\"middle\" x=\"180.5\" y=\"-96.8\" font-family=\"Times,serif\" font-size=\"14.00\" fill=\"#000000\">value = [285, 11]</text>\n</g>\n<!-- 1&#45;&gt;2 -->\n<g id=\"edge2\" class=\"edge\">\n<title>1&#45;&gt;2</title>\n<path fill=\"none\" stroke=\"#000000\" d=\"M298.871,-192.9465C282.3091,-183.1599 264.1112,-172.4066 247.0575,-162.3294\"/>\n<polygon fill=\"#000000\" stroke=\"#000000\" points=\"248.6483,-159.2041 238.2585,-157.13 245.0872,-165.2306 248.6483,-159.2041\"/>\n</g>\n<!-- 5 -->\n<g id=\"node6\" class=\"node\">\n<title>5</title>\n<polygon fill=\"#eca36e\" stroke=\"#000000\" points=\"444,-157 269,-157 269,-89 444,-89 444,-157\"/>\n<text text-anchor=\"middle\" x=\"356.5\" y=\"-141.8\" font-family=\"Times,serif\" font-size=\"14.00\" fill=\"#000000\">interactive_elements &lt;= 0.5</text>\n<text text-anchor=\"middle\" x=\"356.5\" y=\"-126.8\" font-family=\"Times,serif\" font-size=\"14.00\" fill=\"#000000\">gini = 0.334</text>\n<text text-anchor=\"middle\" x=\"356.5\" y=\"-111.8\" font-family=\"Times,serif\" font-size=\"14.00\" fill=\"#000000\">samples = 52</text>\n<text text-anchor=\"middle\" x=\"356.5\" y=\"-96.8\" font-family=\"Times,serif\" font-size=\"14.00\" fill=\"#000000\">value = [41, 11]</text>\n</g>\n<!-- 1&#45;&gt;5 -->\n<g id=\"edge5\" class=\"edge\">\n<title>1&#45;&gt;5</title>\n<path fill=\"none\" stroke=\"#000000\" d=\"M356.5,-192.9465C356.5,-184.776 356.5,-175.9318 356.5,-167.3697\"/>\n<polygon fill=\"#000000\" stroke=\"#000000\" points=\"360.0001,-167.13 356.5,-157.13 353.0001,-167.13 360.0001,-167.13\"/>\n</g>\n<!-- 3 -->\n<g id=\"node4\" class=\"node\">\n<title>3</title>\n<polygon fill=\"#e68540\" stroke=\"#000000\" points=\"117,-53 0,-53 0,0 117,0 117,-53\"/>\n<text text-anchor=\"middle\" x=\"58.5\" y=\"-37.8\" font-family=\"Times,serif\" font-size=\"14.00\" fill=\"#000000\">gini = 0.065</text>\n<text text-anchor=\"middle\" x=\"58.5\" y=\"-22.8\" font-family=\"Times,serif\" font-size=\"14.00\" fill=\"#000000\">samples = 295</text>\n<text text-anchor=\"middle\" x=\"58.5\" y=\"-7.8\" font-family=\"Times,serif\" font-size=\"14.00\" fill=\"#000000\">value = [285, 10]</text>\n</g>\n<!-- 2&#45;&gt;3 -->\n<g id=\"edge3\" class=\"edge\">\n<title>2&#45;&gt;3</title>\n<path fill=\"none\" stroke=\"#000000\" d=\"M137.4874,-88.9777C125.4476,-79.4545 112.3812,-69.1191 100.4065,-59.6473\"/>\n<polygon fill=\"#000000\" stroke=\"#000000\" points=\"102.3311,-56.7072 92.3167,-53.2485 97.9885,-62.1973 102.3311,-56.7072\"/>\n</g>\n<!-- 4 -->\n<g id=\"node5\" class=\"node\">\n<title>4</title>\n<polygon fill=\"#399de5\" stroke=\"#000000\" points=\"230,-53 135,-53 135,0 230,0 230,-53\"/>\n<text text-anchor=\"middle\" x=\"182.5\" y=\"-37.8\" font-family=\"Times,serif\" font-size=\"14.00\" fill=\"#000000\">gini = 0.0</text>\n<text text-anchor=\"middle\" x=\"182.5\" y=\"-22.8\" font-family=\"Times,serif\" font-size=\"14.00\" fill=\"#000000\">samples = 1</text>\n<text text-anchor=\"middle\" x=\"182.5\" y=\"-7.8\" font-family=\"Times,serif\" font-size=\"14.00\" fill=\"#000000\">value = [0, 1]</text>\n</g>\n<!-- 2&#45;&gt;4 -->\n<g id=\"edge4\" class=\"edge\">\n<title>2&#45;&gt;4</title>\n<path fill=\"none\" stroke=\"#000000\" d=\"M181.2051,-88.9777C181.3759,-80.7364 181.5593,-71.887 181.7328,-63.5153\"/>\n<polygon fill=\"#000000\" stroke=\"#000000\" points=\"185.2376,-63.3189 181.9456,-53.2485 178.2391,-63.1738 185.2376,-63.3189\"/>\n</g>\n<!-- 6 -->\n<g id=\"node7\" class=\"node\">\n<title>6</title>\n<polygon fill=\"#f6d5bd\" stroke=\"#000000\" points=\"368.5,-53 258.5,-53 258.5,0 368.5,0 368.5,-53\"/>\n<text text-anchor=\"middle\" x=\"313.5\" y=\"-37.8\" font-family=\"Times,serif\" font-size=\"14.00\" fill=\"#000000\">gini = 0.48</text>\n<text text-anchor=\"middle\" x=\"313.5\" y=\"-22.8\" font-family=\"Times,serif\" font-size=\"14.00\" fill=\"#000000\">samples = 25</text>\n<text text-anchor=\"middle\" x=\"313.5\" y=\"-7.8\" font-family=\"Times,serif\" font-size=\"14.00\" fill=\"#000000\">value = [15, 10]</text>\n</g>\n<!-- 5&#45;&gt;6 -->\n<g id=\"edge6\" class=\"edge\">\n<title>5&#45;&gt;6</title>\n<path fill=\"none\" stroke=\"#000000\" d=\"M341.3398,-88.9777C337.5043,-80.3702 333.3732,-71.0992 329.4978,-62.402\"/>\n<polygon fill=\"#000000\" stroke=\"#000000\" points=\"332.6862,-60.9581 325.419,-53.2485 326.2923,-63.8073 332.6862,-60.9581\"/>\n</g>\n<!-- 7 -->\n<g id=\"node8\" class=\"node\">\n<title>7</title>\n<polygon fill=\"#e68641\" stroke=\"#000000\" points=\"488.5,-53 386.5,-53 386.5,0 488.5,0 488.5,-53\"/>\n<text text-anchor=\"middle\" x=\"437.5\" y=\"-37.8\" font-family=\"Times,serif\" font-size=\"14.00\" fill=\"#000000\">gini = 0.071</text>\n<text text-anchor=\"middle\" x=\"437.5\" y=\"-22.8\" font-family=\"Times,serif\" font-size=\"14.00\" fill=\"#000000\">samples = 27</text>\n<text text-anchor=\"middle\" x=\"437.5\" y=\"-7.8\" font-family=\"Times,serif\" font-size=\"14.00\" fill=\"#000000\">value = [26, 1]</text>\n</g>\n<!-- 5&#45;&gt;7 -->\n<g id=\"edge7\" class=\"edge\">\n<title>5&#45;&gt;7</title>\n<path fill=\"none\" stroke=\"#000000\" d=\"M385.0576,-88.9777C392.6669,-79.9123 400.8939,-70.111 408.5253,-61.0192\"/>\n<polygon fill=\"#000000\" stroke=\"#000000\" points=\"411.2995,-63.1581 415.0479,-53.2485 405.938,-58.6577 411.2995,-63.1581\"/>\n</g>\n<!-- 9 -->\n<g id=\"node10\" class=\"node\">\n<title>9</title>\n<polygon fill=\"#efb388\" stroke=\"#000000\" points=\"684.5,-157 462.5,-157 462.5,-89 684.5,-89 684.5,-157\"/>\n<text text-anchor=\"middle\" x=\"573.5\" y=\"-141.8\" font-family=\"Times,serif\" font-size=\"14.00\" fill=\"#000000\">in_app_products_avg &lt;= 201063.0</text>\n<text text-anchor=\"middle\" x=\"573.5\" y=\"-126.8\" font-family=\"Times,serif\" font-size=\"14.00\" fill=\"#000000\">gini = 0.408</text>\n<text text-anchor=\"middle\" x=\"573.5\" y=\"-111.8\" font-family=\"Times,serif\" font-size=\"14.00\" fill=\"#000000\">samples = 84</text>\n<text text-anchor=\"middle\" x=\"573.5\" y=\"-96.8\" font-family=\"Times,serif\" font-size=\"14.00\" fill=\"#000000\">value = [60, 24]</text>\n</g>\n<!-- 8&#45;&gt;9 -->\n<g id=\"edge9\" class=\"edge\">\n<title>8&#45;&gt;9</title>\n<path fill=\"none\" stroke=\"#000000\" d=\"M573.5,-192.9465C573.5,-184.776 573.5,-175.9318 573.5,-167.3697\"/>\n<polygon fill=\"#000000\" stroke=\"#000000\" points=\"577.0001,-167.13 573.5,-157.13 570.0001,-167.13 577.0001,-167.13\"/>\n</g>\n<!-- 12 -->\n<g id=\"node13\" class=\"node\">\n<title>12</title>\n<polygon fill=\"#b4daf5\" stroke=\"#000000\" points=\"924.5,-157 702.5,-157 702.5,-89 924.5,-89 924.5,-157\"/>\n<text text-anchor=\"middle\" x=\"813.5\" y=\"-141.8\" font-family=\"Times,serif\" font-size=\"14.00\" fill=\"#000000\">in_app_products_avg &lt;= 565100.0</text>\n<text text-anchor=\"middle\" x=\"813.5\" y=\"-126.8\" font-family=\"Times,serif\" font-size=\"14.00\" fill=\"#000000\">gini = 0.473</text>\n<text text-anchor=\"middle\" x=\"813.5\" y=\"-111.8\" font-family=\"Times,serif\" font-size=\"14.00\" fill=\"#000000\">samples = 47</text>\n<text text-anchor=\"middle\" x=\"813.5\" y=\"-96.8\" font-family=\"Times,serif\" font-size=\"14.00\" fill=\"#000000\">value = [18, 29]</text>\n</g>\n<!-- 8&#45;&gt;12 -->\n<g id=\"edge12\" class=\"edge\">\n<title>8&#45;&gt;12</title>\n<path fill=\"none\" stroke=\"#000000\" d=\"M652.085,-192.9465C675.4982,-182.8008 701.309,-171.6161 725.2935,-161.2228\"/>\n<polygon fill=\"#000000\" stroke=\"#000000\" points=\"726.9546,-164.3176 734.7385,-157.13 724.1713,-157.8947 726.9546,-164.3176\"/>\n</g>\n<!-- 10 -->\n<g id=\"node11\" class=\"node\">\n<title>10</title>\n<polygon fill=\"#e58139\" stroke=\"#000000\" points=\"613.5,-53 511.5,-53 511.5,0 613.5,0 613.5,-53\"/>\n<text text-anchor=\"middle\" x=\"562.5\" y=\"-37.8\" font-family=\"Times,serif\" font-size=\"14.00\" fill=\"#000000\">gini = 0.0</text>\n<text text-anchor=\"middle\" x=\"562.5\" y=\"-22.8\" font-family=\"Times,serif\" font-size=\"14.00\" fill=\"#000000\">samples = 14</text>\n<text text-anchor=\"middle\" x=\"562.5\" y=\"-7.8\" font-family=\"Times,serif\" font-size=\"14.00\" fill=\"#000000\">value = [14, 0]</text>\n</g>\n<!-- 9&#45;&gt;10 -->\n<g id=\"edge10\" class=\"edge\">\n<title>9&#45;&gt;10</title>\n<path fill=\"none\" stroke=\"#000000\" d=\"M569.6218,-88.9777C568.672,-80.6449 567.6512,-71.6903 566.6876,-63.2364\"/>\n<polygon fill=\"#000000\" stroke=\"#000000\" points=\"570.1592,-62.7877 565.549,-53.2485 563.2042,-63.5806 570.1592,-62.7877\"/>\n</g>\n<!-- 11 -->\n<g id=\"node12\" class=\"node\">\n<title>11</title>\n<polygon fill=\"#f3c3a0\" stroke=\"#000000\" points=\"741.5,-53 631.5,-53 631.5,0 741.5,0 741.5,-53\"/>\n<text text-anchor=\"middle\" x=\"686.5\" y=\"-37.8\" font-family=\"Times,serif\" font-size=\"14.00\" fill=\"#000000\">gini = 0.451</text>\n<text text-anchor=\"middle\" x=\"686.5\" y=\"-22.8\" font-family=\"Times,serif\" font-size=\"14.00\" fill=\"#000000\">samples = 70</text>\n<text text-anchor=\"middle\" x=\"686.5\" y=\"-7.8\" font-family=\"Times,serif\" font-size=\"14.00\" fill=\"#000000\">value = [46, 24]</text>\n</g>\n<!-- 9&#45;&gt;11 -->\n<g id=\"edge11\" class=\"edge\">\n<title>9&#45;&gt;11</title>\n<path fill=\"none\" stroke=\"#000000\" d=\"M613.3396,-88.9777C624.3839,-79.546 636.361,-69.3178 647.3648,-59.9208\"/>\n<polygon fill=\"#000000\" stroke=\"#000000\" points=\"649.8464,-62.4041 655.1779,-53.2485 645.3006,-57.081 649.8464,-62.4041\"/>\n</g>\n<!-- 13 -->\n<g id=\"node14\" class=\"node\">\n<title>13</title>\n<polygon fill=\"#7bbeee\" stroke=\"#000000\" points=\"863.5,-53 761.5,-53 761.5,0 863.5,0 863.5,-53\"/>\n<text text-anchor=\"middle\" x=\"812.5\" y=\"-37.8\" font-family=\"Times,serif\" font-size=\"14.00\" fill=\"#000000\">gini = 0.375</text>\n<text text-anchor=\"middle\" x=\"812.5\" y=\"-22.8\" font-family=\"Times,serif\" font-size=\"14.00\" fill=\"#000000\">samples = 36</text>\n<text text-anchor=\"middle\" x=\"812.5\" y=\"-7.8\" font-family=\"Times,serif\" font-size=\"14.00\" fill=\"#000000\">value = [9, 27]</text>\n</g>\n<!-- 12&#45;&gt;13 -->\n<g id=\"edge13\" class=\"edge\">\n<title>12&#45;&gt;13</title>\n<path fill=\"none\" stroke=\"#000000\" d=\"M813.1474,-88.9777C813.062,-80.7364 812.9703,-71.887 812.8836,-63.5153\"/>\n<polygon fill=\"#000000\" stroke=\"#000000\" points=\"816.3807,-63.2116 812.7772,-53.2485 809.3811,-63.2842 816.3807,-63.2116\"/>\n</g>\n<!-- 14 -->\n<g id=\"node15\" class=\"node\">\n<title>14</title>\n<polygon fill=\"#eb9d65\" stroke=\"#000000\" points=\"977,-53 882,-53 882,0 977,0 977,-53\"/>\n<text text-anchor=\"middle\" x=\"929.5\" y=\"-37.8\" font-family=\"Times,serif\" font-size=\"14.00\" fill=\"#000000\">gini = 0.298</text>\n<text text-anchor=\"middle\" x=\"929.5\" y=\"-22.8\" font-family=\"Times,serif\" font-size=\"14.00\" fill=\"#000000\">samples = 11</text>\n<text text-anchor=\"middle\" x=\"929.5\" y=\"-7.8\" font-family=\"Times,serif\" font-size=\"14.00\" fill=\"#000000\">value = [9, 2]</text>\n</g>\n<!-- 12&#45;&gt;14 -->\n<g id=\"edge14\" class=\"edge\">\n<title>12&#45;&gt;14</title>\n<path fill=\"none\" stroke=\"#000000\" d=\"M854.3973,-88.9777C865.8449,-79.4545 878.2687,-69.1191 889.6545,-59.6473\"/>\n<polygon fill=\"#000000\" stroke=\"#000000\" points=\"891.8971,-62.3345 897.3464,-53.2485 887.4203,-56.9532 891.8971,-62.3345\"/>\n</g>\n</g>\n</svg>\n"
          },
          "metadata": {
            "tags": []
          },
          "execution_count": 195
        }
      ]
    },
    {
      "cell_type": "code",
      "metadata": {
        "colab": {
          "base_uri": "https://localhost:8080/"
        },
        "id": "ueb_FeDR0Ghe",
        "outputId": "b79632a6-5023-44af-ed67-a2103286d699"
      },
      "source": [
        "import xgboost as xgb\r\n",
        "xgb = xgb.XGBClassifier(random_state=1,learning_rate=0.01)\r\n",
        "xgb.fit(X_train, Y_train)\r\n",
        "xgb.score(X_test,Y_test)"
      ],
      "execution_count": 196,
      "outputs": [
        {
          "output_type": "execute_result",
          "data": {
            "text/plain": [
              "0.8166666666666667"
            ]
          },
          "metadata": {
            "tags": []
          },
          "execution_count": 196
        }
      ]
    },
    {
      "cell_type": "code",
      "metadata": {
        "colab": {
          "base_uri": "https://localhost:8080/"
        },
        "id": "woByk8to1kh6",
        "outputId": "87c3938b-37c4-4133-8485-89c3b6f64350"
      },
      "source": [
        "from sklearn import linear_model              \r\n",
        "lm = linear_model.SGDClassifier(loss=\"hinge\", penalty=\"l2\")\r\n",
        "lm.fit(X_train, Y_train)\r\n",
        "lm.score(X_train,Y_train)"
      ],
      "execution_count": 197,
      "outputs": [
        {
          "output_type": "execute_result",
          "data": {
            "text/plain": [
              "0.7640918580375783"
            ]
          },
          "metadata": {
            "tags": []
          },
          "execution_count": 197
        }
      ]
    },
    {
      "cell_type": "code",
      "metadata": {
        "id": "0FCPQGUs3m4_"
      },
      "source": [
        "lm_params = {\"loss\" : [\"hinge\", \"log\", \"squared_hinge\", \"modified_huber\"],\"alpha\": np.arange(0.0001,0.001,0.001) ,\"penalty\" : [\"l2\", \"l1\", \"none\"],\"max_iter\":(np.arange(100,1000,100))}\r\n",
        "lm_search = GridSearchCV(lm_model, param_grid=lm_params)\r\n",
        "lm_search.fit(X_train,Y_train)\r\n",
        "lm_best_params = lm_search.best_params_"
      ],
      "execution_count": 204,
      "outputs": []
    },
    {
      "cell_type": "code",
      "metadata": {
        "colab": {
          "base_uri": "https://localhost:8080/"
        },
        "id": "bCj4CEbF8AlE",
        "outputId": "3a9934b9-a0d7-48ba-8e8a-78f6fc03c522"
      },
      "source": [
        "lm_optimized = linear_model.SGDClassifier(loss=lm_best_params['loss'],penalty=lm_best_params['penalty'])\r\n",
        "lm_optimized.fit(X_train,Y_train)"
      ],
      "execution_count": 205,
      "outputs": [
        {
          "output_type": "execute_result",
          "data": {
            "text/plain": [
              "SGDClassifier(alpha=0.0001, average=False, class_weight=None,\n",
              "              early_stopping=False, epsilon=0.1, eta0=0.0, fit_intercept=True,\n",
              "              l1_ratio=0.15, learning_rate='optimal', loss='hinge',\n",
              "              max_iter=1000, n_iter_no_change=5, n_jobs=None, penalty='l1',\n",
              "              power_t=0.5, random_state=None, shuffle=True, tol=0.001,\n",
              "              validation_fraction=0.1, verbose=0, warm_start=False)"
            ]
          },
          "metadata": {
            "tags": []
          },
          "execution_count": 205
        }
      ]
    },
    {
      "cell_type": "code",
      "metadata": {
        "colab": {
          "base_uri": "https://localhost:8080/"
        },
        "id": "VnXhus0d9A7B",
        "outputId": "f9e0e47a-9785-472e-d870-509b7e03cc03"
      },
      "source": [
        "lm_optimized.score(X_test,Y_test)"
      ],
      "execution_count": 206,
      "outputs": [
        {
          "output_type": "execute_result",
          "data": {
            "text/plain": [
              "0.7583333333333333"
            ]
          },
          "metadata": {
            "tags": []
          },
          "execution_count": 206
        }
      ]
    },
    {
      "cell_type": "code",
      "metadata": {
        "id": "pSYXwHUtRe_d",
        "colab": {
          "base_uri": "https://localhost:8080/"
        },
        "outputId": "1108984c-8d69-44d6-d5d8-b3678152bac7"
      },
      "source": [
        "from sklearn import svm\n",
        "svm = svm.SVC()\n",
        "svm.fit(X_train, Y_train)\n",
        "svm.score(X_train,Y_train)"
      ],
      "execution_count": 207,
      "outputs": [
        {
          "output_type": "execute_result",
          "data": {
            "text/plain": [
              "0.8559498956158664"
            ]
          },
          "metadata": {
            "tags": []
          },
          "execution_count": 207
        }
      ]
    },
    {
      "cell_type": "code",
      "metadata": {
        "id": "eObKZaKMBgch",
        "colab": {
          "base_uri": "https://localhost:8080/"
        },
        "outputId": "8cec2caf-a4ef-41f9-b915-76f34b9a19a7"
      },
      "source": [
        "from sklearn import ensemble\n",
        "rf = ensemble.RandomForestClassifier()\n",
        "rf.fit(X_train, Y_train)\n",
        "rf.score(X_test,Y_test)"
      ],
      "execution_count": 208,
      "outputs": [
        {
          "output_type": "execute_result",
          "data": {
            "text/plain": [
              "0.8416666666666667"
            ]
          },
          "metadata": {
            "tags": []
          },
          "execution_count": 208
        }
      ]
    },
    {
      "cell_type": "code",
      "metadata": {
        "id": "QQOxA_wFwUa5"
      },
      "source": [
        ""
      ],
      "execution_count": null,
      "outputs": []
    }
  ]
}